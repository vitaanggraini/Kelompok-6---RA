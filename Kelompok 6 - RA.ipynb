{
  "nbformat": 4,
  "nbformat_minor": 0,
  "metadata": {
    "colab": {
      "provenance": []
    },
    "kernelspec": {
      "name": "python3",
      "display_name": "Python 3"
    },
    "language_info": {
      "name": "python"
    }
  },
  "cells": [
    {
      "cell_type": "markdown",
      "source": [
        "# Nomor 1"
      ],
      "metadata": {
        "id": "MwHSzrpA8StL"
      }
    },
    {
      "cell_type": "code",
      "source": [
        "def f(x):\n",
        "  return 4*x\n",
        "\n",
        "def g(x):\n",
        "  return x*x\n",
        "\n",
        "def h(x):\n",
        "  return 3+x\n",
        "\n",
        "#composition\n",
        "h(g(f(4)))"
      ],
      "metadata": {
        "id": "fU9X6jXODudv",
        "colab": {
          "base_uri": "https://localhost:8080/"
        },
        "outputId": "3a5789fa-fc61-4da3-d14d-387babe23c27"
      },
      "execution_count": null,
      "outputs": [
        {
          "output_type": "execute_result",
          "data": {
            "text/plain": [
              "259"
            ]
          },
          "metadata": {},
          "execution_count": 1
        }
      ]
    },
    {
      "cell_type": "markdown",
      "source": [
        "Kode ini menjalankan komposisi dari tiga fungsi matematika, yaitu f (x) = 4*, g (x) = x*, dan h(x) menjadi input g(x), dan hasil input untuk f(x). Kode kemudian meminta nilai x dari pengguna, melakukan prosedur komposisi, dan mencetak hasilnya. Perlu diingat bahwa karakteristik masing-masing fungsi (f, g, h) mempengaruhi hasil secara keseluruhan, dan perubahan pada nilai x dapat menyebabkan perubahan besar dalam output."
      ],
      "metadata": {
        "id": "4biStB0i2fvV"
      }
    },
    {
      "cell_type": "markdown",
      "source": [
        "#Nomor 2"
      ],
      "metadata": {
        "id": "Q0qRehdX5z7c"
      }
    },
    {
      "cell_type": "code",
      "source": [
        "#kelas untuk fungsi komposisi menggunakan OOP\n",
        "class FungsiKomposisi:\n",
        "    def _init_(self):\n",
        "        pass\n",
        "\n",
        "    def f(self, x): #fungsi komposisi f(x)\n",
        "        return 4 ** x\n",
        "\n",
        "    def g(self, x): #fungsi komposisi g(x)\n",
        "        return x ** x\n",
        "\n",
        "    def h(self, x): #fungsi komposisi h(x)\n",
        "        return 3 + x\n",
        "\n",
        "    def prosedural(x): #fungsi prosedural\n",
        "      return f(g(h(x)))\n",
        "\n",
        "#meminta inputan x lalu menjalankan hasil prosedural\n",
        "hasil = int(input(\"Masukan nilai x : \"))\n",
        "print(\"Hasil : \", prosedural(hasil))"
      ],
      "metadata": {
        "id": "kIx_etMTiD_Q"
      },
      "execution_count": null,
      "outputs": []
    },
    {
      "cell_type": "markdown",
      "source": [
        "Kode tersebut mendefinisikan sebuah kelas `FungsiKomposisi` yang memiliki metode untuk fungsi komposisi \\(f(x)\\), \\(g(x)\\), dan \\(h(x)\\). Selain itu, ada sebuah metode `prosedural` di dalam kelas tersebut yang menggabungkan ketiga fungsi komposisi tersebut. Namun, terdapat kesalahan penulisan pada konstruktor kelas dan pemanggilan metode prosedural di luar kelas. Setelah dilakukan perbaikan, kode dapat berfungsi dengan baik untuk menghitung nilai fungsi komposisi dari sebuah nilai \\(x\\)."
      ],
      "metadata": {
        "id": "Yx4xGO1554pu"
      }
    },
    {
      "cell_type": "markdown",
      "source": [
        "#Nomor 3"
      ],
      "metadata": {
        "id": "dBC-erXIx0el"
      }
    },
    {
      "cell_type": "markdown",
      "source": [
        "Analisis Komparasi Soal 1 dan 2:\n",
        "\n",
        "1. Kode pertama menggunakan metode pemrograman fungsional konvensional.Argumen diterima oleh semua fungsi f, g, dan h, dan mereka mengembalikan hasil pemrosesan. Dalam komposisi, fungsi-fungsi ini digunakan secara bertahap. Dengan kata lain, input dari satu fungsi ditukar dengan output dari fungsi berikutnya. Bagi mereka yang terbiasa dengan pemrograman fungsional, kode ini lebih sederhana dan mudah dipahami. Kode menjadi lebih sederhana dan mudah dibaca dengan menggunakan fungsi biasa.\n",
        "2. Dalam pendekatan berbasis objek, kode kedua menjalankan CPS, atau gaya transisi lanjutan. Dalam metode ini, setiap fungsi f, g, dan h dibungkus dalam objek Value, dan metode \"__rshift__\" digunakan untuk mengevaluasi fungsi dengan menggunakan nilai yang disimpan dalam objek Value. Dengan menggunakan operator \">>, kita meneruskan hasil dari satu fungsi ke fungsi berikutnya, dan akhirnya mendapatkan hasil akhir dari Bagi mereka yang tidak terbiasa dengan paradigma tersebut, kode ini menggunakan konsep pemrograman berbasis objek dan CPS. Namun, teknik seperti ini dapat meningkatkan fleksibilitas dan memungkinkan modularitas yang lebih besar dan pemrograman dinamis."
      ],
      "metadata": {
        "id": "4xykJW_d0Mz6"
      }
    },
    {
      "cell_type": "markdown",
      "source": [
        "# Nomor 4\n",
        "\n"
      ],
      "metadata": {
        "id": "8crNeFiUn-No"
      }
    },
    {
      "cell_type": "code",
      "source": [
        "import time\n",
        "st = time.time()\n",
        "\n",
        "def luas_segitiga(panjang,lebar,tinggi):\n",
        "  return (panjang*lebar*tinggi)/2\n",
        "luas_segitiga(2,3,4)\n",
        "\n",
        "et = time.time()\n",
        "elapsed_time = et - st\n",
        "print('Execution time:', elapsed_time, 'seconds')"
      ],
      "metadata": {
        "colab": {
          "base_uri": "https://localhost:8080/"
        },
        "id": "7qFDIvMJsM4V",
        "outputId": "748d4ad7-59e3-465e-a1e3-560f588b8e7d"
      },
      "execution_count": null,
      "outputs": [
        {
          "output_type": "stream",
          "name": "stdout",
          "text": [
            "Execution time: 0.00016927719116210938 seconds\n"
          ]
        }
      ]
    },
    {
      "cell_type": "code",
      "source": [
        "import time\n",
        "st = time.time()\n",
        "\n",
        "class Sides:\n",
        "  def __init__(self,a, b, c):\n",
        "    self.a = a\n",
        "    self.b = b\n",
        "    self.c = c\n",
        "\n",
        "class A(Sides):\n",
        "  def area(self):\n",
        "    s = (self.a * self.b * self.c)/2\n",
        "    return s\n",
        "\n",
        "t = A(2,3,4)\n",
        "\n",
        "print(\"area of Triangle : {}\".format(t.area()))\n",
        "et = time.time()\n",
        "elapsed_time = et - st\n",
        "print('Execution time:', elapsed_time, 'seconds')"
      ],
      "metadata": {
        "colab": {
          "base_uri": "https://localhost:8080/"
        },
        "id": "5nNU9cbVoHtT",
        "outputId": "fb2971e8-ca49-4c44-a041-48c97083953c"
      },
      "execution_count": null,
      "outputs": [
        {
          "output_type": "stream",
          "name": "stdout",
          "text": [
            "area of Triangle : 12.0\n",
            "Execution time: 0.003248453140258789 seconds\n"
          ]
        }
      ]
    },
    {
      "cell_type": "markdown",
      "source": [
        "# Nomor 5 Metode Bisection"
      ],
      "metadata": {
        "id": "ByjhMpOu9g7q"
      }
    },
    {
      "cell_type": "code",
      "source": [
        "def bisection_method(f, x0, x1, tol):\n",
        "    while True:\n",
        "        x2 = (x0 + x1) / 2\n",
        "        f_x0 = f(x0)\n",
        "        f_x2 = f(x2)\n",
        "\n",
        "        if abs(f_x2) < tol:\n",
        "            return x2\n",
        "\n",
        "        if f_x0 * f_x2 < 0:\n",
        "            x1 = x2\n",
        "        elif f_x0 * f_x2 > 0:\n",
        "            x0 = x2\n",
        "        else:\n",
        "            return x2\n",
        "\n",
        "# Fungsi yang diberikan: f(x) = x - 2^x\n",
        "f = lambda x: x - 2**x\n",
        "\n",
        "# Initial guesses\n",
        "initial_guess_x0 = 0.1\n",
        "initial_guess_x1 = 0.9\n",
        "\n",
        "# Tolerance\n",
        "tolerance = 1e-5\n",
        "\n",
        "# Menjalankan metode bisection\n",
        "root = bisection_method(f, initial_guess_x0, initial_guess_x1, tolerance)\n",
        "print(\"Root found:\", root)\n"
      ],
      "metadata": {
        "id": "h47z752h9h7O",
        "colab": {
          "base_uri": "https://localhost:8080/",
          "height": 315
        },
        "outputId": "62165821-6d24-4b0d-92bf-9ef9b6645d37"
      },
      "execution_count": null,
      "outputs": [
        {
          "output_type": "error",
          "ename": "KeyboardInterrupt",
          "evalue": "",
          "traceback": [
            "\u001b[0;31m---------------------------------------------------------------------------\u001b[0m",
            "\u001b[0;31mKeyboardInterrupt\u001b[0m                         Traceback (most recent call last)",
            "\u001b[0;32m<ipython-input-1-137271d18b5d>\u001b[0m in \u001b[0;36m<cell line: 28>\u001b[0;34m()\u001b[0m\n\u001b[1;32m     26\u001b[0m \u001b[0;34m\u001b[0m\u001b[0m\n\u001b[1;32m     27\u001b[0m \u001b[0;31m# Menjalankan metode bisection\u001b[0m\u001b[0;34m\u001b[0m\u001b[0;34m\u001b[0m\u001b[0m\n\u001b[0;32m---> 28\u001b[0;31m \u001b[0mroot\u001b[0m \u001b[0;34m=\u001b[0m \u001b[0mbisection_method\u001b[0m\u001b[0;34m(\u001b[0m\u001b[0mf\u001b[0m\u001b[0;34m,\u001b[0m \u001b[0minitial_guess_x0\u001b[0m\u001b[0;34m,\u001b[0m \u001b[0minitial_guess_x1\u001b[0m\u001b[0;34m,\u001b[0m \u001b[0mtolerance\u001b[0m\u001b[0;34m)\u001b[0m\u001b[0;34m\u001b[0m\u001b[0;34m\u001b[0m\u001b[0m\n\u001b[0m\u001b[1;32m     29\u001b[0m \u001b[0mprint\u001b[0m\u001b[0;34m(\u001b[0m\u001b[0;34m\"Root found:\"\u001b[0m\u001b[0;34m,\u001b[0m \u001b[0mroot\u001b[0m\u001b[0;34m)\u001b[0m\u001b[0;34m\u001b[0m\u001b[0;34m\u001b[0m\u001b[0m\n",
            "\u001b[0;32m<ipython-input-1-137271d18b5d>\u001b[0m in \u001b[0;36mbisection_method\u001b[0;34m(f, x0, x1, tol)\u001b[0m\n\u001b[1;32m      1\u001b[0m \u001b[0;32mdef\u001b[0m \u001b[0mbisection_method\u001b[0m\u001b[0;34m(\u001b[0m\u001b[0mf\u001b[0m\u001b[0;34m,\u001b[0m \u001b[0mx0\u001b[0m\u001b[0;34m,\u001b[0m \u001b[0mx1\u001b[0m\u001b[0;34m,\u001b[0m \u001b[0mtol\u001b[0m\u001b[0;34m)\u001b[0m\u001b[0;34m:\u001b[0m\u001b[0;34m\u001b[0m\u001b[0;34m\u001b[0m\u001b[0m\n\u001b[0;32m----> 2\u001b[0;31m     \u001b[0;32mwhile\u001b[0m \u001b[0;32mTrue\u001b[0m\u001b[0;34m:\u001b[0m\u001b[0;34m\u001b[0m\u001b[0;34m\u001b[0m\u001b[0m\n\u001b[0m\u001b[1;32m      3\u001b[0m         \u001b[0mx2\u001b[0m \u001b[0;34m=\u001b[0m \u001b[0;34m(\u001b[0m\u001b[0mx0\u001b[0m \u001b[0;34m+\u001b[0m \u001b[0mx1\u001b[0m\u001b[0;34m)\u001b[0m \u001b[0;34m/\u001b[0m \u001b[0;36m2\u001b[0m\u001b[0;34m\u001b[0m\u001b[0;34m\u001b[0m\u001b[0m\n\u001b[1;32m      4\u001b[0m         \u001b[0mf_x0\u001b[0m \u001b[0;34m=\u001b[0m \u001b[0mf\u001b[0m\u001b[0;34m(\u001b[0m\u001b[0mx0\u001b[0m\u001b[0;34m)\u001b[0m\u001b[0;34m\u001b[0m\u001b[0;34m\u001b[0m\u001b[0m\n\u001b[1;32m      5\u001b[0m         \u001b[0mf_x2\u001b[0m \u001b[0;34m=\u001b[0m \u001b[0mf\u001b[0m\u001b[0;34m(\u001b[0m\u001b[0mx2\u001b[0m\u001b[0;34m)\u001b[0m\u001b[0;34m\u001b[0m\u001b[0;34m\u001b[0m\u001b[0m\n",
            "\u001b[0;31mKeyboardInterrupt\u001b[0m: "
          ]
        }
      ]
    },
    {
      "cell_type": "markdown",
      "source": [],
      "metadata": {
        "id": "4KIZcd1Ghi0_"
      }
    },
    {
      "cell_type": "code",
      "source": [
        "def bisection_method(f, x0, x1, tol, max_iter=1000):\n",
        "    iter_count = 0\n",
        "    while iter_count < max_iter:\n",
        "        x2 = (x0 + x1) / 2\n",
        "        f_x0 = f(x0)\n",
        "        f_x2 = f(x2)\n",
        "\n",
        "        if abs(f_x2) < tol:\n",
        "            return x2\n",
        "\n",
        "        if f_x0 * f_x2 < 0:\n",
        "            x1 = x2\n",
        "        elif f_x0 * f_x2 > 0:\n",
        "            x0 = x2\n",
        "        else:\n",
        "            return x2\n",
        "\n",
        "        iter_count += 1\n",
        "\n",
        "    raise RuntimeError(\"Bisection method did not converge within the maximum number of iterations.\")\n",
        "\n",
        "# Fungsi yang diberikan: f(x) = x - 2^x\n",
        "f = lambda x: x - 2**x\n",
        "\n",
        "# Initial guesses\n",
        "initial_guess_x0 = 0.1\n",
        "initial_guess_x1 = 0.9\n",
        "\n",
        "# Tolerance\n",
        "tolerance = 1e-5\n",
        "\n",
        "# Menjalankan metode bisection\n",
        "try:\n",
        "    root = bisection_method(f, initial_guess_x0, initial_guess_x1, tolerance)\n",
        "    print(\"Root found:\", root)\n",
        "except RuntimeError as e:\n",
        "    print(e)\n"
      ],
      "metadata": {
        "colab": {
          "base_uri": "https://localhost:8080/"
        },
        "id": "b-sBSfrf-5wl",
        "outputId": "883eb449-ece3-4247-853a-b4b9ada28916"
      },
      "execution_count": null,
      "outputs": [
        {
          "output_type": "stream",
          "name": "stdout",
          "text": [
            "Bisection method did not converge within the maximum number of iterations.\n"
          ]
        }
      ]
    }
  ]
}